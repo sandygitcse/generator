{
 "cells": [
  {
   "cell_type": "code",
   "execution_count": null,
   "metadata": {},
   "outputs": [],
   "source": []
  }
 ],
 "metadata": {
  "interpreter": {
   "hash": "ecc9dc54491fd34d033b027f804277f02397d2b5e9128bbd5ee04d8a2507ba5a"
  },
  "kernelspec": {
   "display_name": "Python 3.6.13 64-bit ('telemanom': conda)",
   "language": "python",
   "name": "python3"
  },
  "language_info": {
   "name": "python",
   "version": "3.6.13"
  },
  "orig_nbformat": 4
 },
 "nbformat": 4,
 "nbformat_minor": 2
}
